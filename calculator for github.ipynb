{
 "cells": [
  {
   "cell_type": "code",
   "execution_count": 1,
   "id": "f9a5ddfc",
   "metadata": {},
   "outputs": [
    {
     "name": "stdout",
     "output_type": "stream",
     "text": [
      "Choose an operation:\n",
      "1. Addition\n",
      "2. Subtraction\n",
      "3. Multiplication\n",
      "4. Division\n",
      "Enter your choice (1/2/3/4): 1\n",
      "Enter first number: 2\n",
      "Enter second number: 2\n",
      "2.0 + 2.0 = 4.0\n"
     ]
    }
   ],
   "source": [
    "# function to add two numbers\n",
    "def add(x, y):\n",
    "   return x + y\n",
    "\n",
    "# function to subtract two numbers\n",
    "def subtract(x, y):\n",
    "   return x - y\n",
    "\n",
    "# function to multiply two numbers\n",
    "def multiply(x, y):\n",
    "   return x * y\n",
    "\n",
    "# function to divide two numbers\n",
    "def divide(x, y):\n",
    "   return x / y\n",
    "\n",
    "# main function to take user input and perform calculations\n",
    "def main():\n",
    "   print(\"Choose an operation:\")\n",
    "   print(\"1. Addition\")\n",
    "   print(\"2. Subtraction\")\n",
    "   print(\"3. Multiplication\")\n",
    "   print(\"4. Division\")\n",
    "\n",
    "   choice = input(\"Enter your choice (1/2/3/4): \")\n",
    "\n",
    "   num1 = float(input(\"Enter first number: \"))\n",
    "   num2 = float(input(\"Enter second number: \"))\n",
    "\n",
    "   if choice == '1':\n",
    "       print(num1, \"+\", num2, \"=\", add(num1,num2))\n",
    "\n",
    "   elif choice == '2':\n",
    "       print(num1, \"-\", num2, \"=\", subtract(num1,num2))\n",
    "\n",
    "   elif choice == '3':\n",
    "       print(num1, \"*\", num2, \"=\", multiply(num1,num2))\n",
    "\n",
    "   elif choice == '4':\n",
    "       if num2 == 0:\n",
    "           print(\"Cannot divide by zero\")\n",
    "       else:\n",
    "           print(num1, \"/\", num2, \"=\", divide(num1,num2))\n",
    "\n",
    "   else:\n",
    "       print(\"Invalid input\")\n",
    "\n",
    "if __name__ == \"__main__\":\n",
    "   main()\n"
   ]
  },
  {
   "cell_type": "code",
   "execution_count": null,
   "id": "b830edce",
   "metadata": {},
   "outputs": [],
   "source": []
  }
 ],
 "metadata": {
  "kernelspec": {
   "display_name": "Python 3 (ipykernel)",
   "language": "python",
   "name": "python3"
  },
  "language_info": {
   "codemirror_mode": {
    "name": "ipython",
    "version": 3
   },
   "file_extension": ".py",
   "mimetype": "text/x-python",
   "name": "python",
   "nbconvert_exporter": "python",
   "pygments_lexer": "ipython3",
   "version": "3.9.13"
  }
 },
 "nbformat": 4,
 "nbformat_minor": 5
}
